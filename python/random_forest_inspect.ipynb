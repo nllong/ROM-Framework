{
 "cells": [
  {
   "cell_type": "code",
   "execution_count": 1,
   "metadata": {},
   "outputs": [],
   "source": [
    "%matplotlib inline\n",
    "import os\n",
    "import sys  # for print \n",
    "\n",
    "import matplotlib as mpl\n",
    "import matplotlib.pyplot as plt\n",
    "import matplotlib.dates as mdates\n",
    "\n",
    "import numpy as np\n",
    "import pandas as pd\n",
    "from pandas.plotting import lag_plot\n",
    "from scipy import stats\n",
    "from sklearn.ensemble import RandomForestRegressor\n",
    "from sklearn.model_selection import train_test_split\n",
    "\n",
    "from scipy import stats, integrate\n",
    "import seaborn as sns\n",
    "\n",
    "from lib.analyses import Analyses\n",
    "from lib.analysis_definition import AnalysisDefinition\n",
    "from lib.ets_model import ETSModel\n",
    "\n",
    "\n",
    "\n",
    "sns.set(color_codes=True)\n",
    "plt.rcParams['figure.figsize'] = [15, 10]\n"
   ]
  },
  {
   "cell_type": "code",
   "execution_count": 2,
   "metadata": {},
   "outputs": [
    {
     "name": "stdout",
     "output_type": "stream",
     "text": [
      "Parsing Location\n",
      "Parsing Design Conditions\n",
      "Parsing Typical / Extreme Periods\n",
      "Parsing Ground Temperatures\n",
      "Parsing Holidays / Dayling\n",
      "Parsing Comments 1\n",
      "Parsing Comments 2\n",
      "Parsing Data Periods\n"
     ]
    }
   ],
   "source": [
    "analysis = AnalysisDefinition('sweep.json', 'lib/epw/USA_CO_Golden-NREL.724666_TMY3.epw')\n",
    "df = analysis.as_dataframe()\n"
   ]
  },
  {
   "cell_type": "code",
   "execution_count": 3,
   "metadata": {},
   "outputs": [
    {
     "data": {
      "text/plain": [
       "0       15.0\n",
       "1       15.0\n",
       "2       15.0\n",
       "3       15.0\n",
       "4       15.0\n",
       "5       15.0\n",
       "6       15.0\n",
       "7       15.0\n",
       "8       15.0\n",
       "9       15.0\n",
       "10      15.0\n",
       "11      15.0\n",
       "12      15.0\n",
       "13      15.0\n",
       "14      15.0\n",
       "15      15.0\n",
       "16      15.0\n",
       "17      15.0\n",
       "18      15.0\n",
       "19      15.0\n",
       "20      15.0\n",
       "21      15.0\n",
       "22      15.0\n",
       "23      15.0\n",
       "24      15.0\n",
       "25      15.0\n",
       "26      15.0\n",
       "27      15.0\n",
       "28      15.0\n",
       "29      15.0\n",
       "        ... \n",
       "8730    25.0\n",
       "8731    25.0\n",
       "8732    25.0\n",
       "8733    25.0\n",
       "8734    25.0\n",
       "8735    25.0\n",
       "8736    25.0\n",
       "8737    25.0\n",
       "8738    25.0\n",
       "8739    25.0\n",
       "8740    25.0\n",
       "8741    25.0\n",
       "8742    25.0\n",
       "8743    25.0\n",
       "8744    25.0\n",
       "8745    25.0\n",
       "8746    25.0\n",
       "8747    25.0\n",
       "8748    25.0\n",
       "8749    25.0\n",
       "8750    25.0\n",
       "8751    25.0\n",
       "8752    25.0\n",
       "8753    25.0\n",
       "8754    25.0\n",
       "8755    25.0\n",
       "8756    25.0\n",
       "8757    25.0\n",
       "8758    25.0\n",
       "8759    25.0\n",
       "Name: ETSInletTemperature, Length: 70080, dtype: float64"
      ]
     },
     "execution_count": 3,
     "metadata": {},
     "output_type": "execute_result"
    }
   ],
   "source": [
    "df['ETSInletTemperature']"
   ]
  },
  {
   "cell_type": "code",
   "execution_count": 2,
   "metadata": {},
   "outputs": [
    {
     "name": "stdout",
     "output_type": "stream",
     "text": [
      "{u'responses': [{u'units': u'J', u'display_name': u'Heating Electric Energy', u'name': u'HeatingElectricity', u'filename': u'HeatingElectricity.pkl'}], u'number_of_samples_to_generate_model': 10, u'covariates': [{u'units': u'', u'display_name': u'Month', u'name': u'Month'}, {u'units': u'', u'display_name': u'Month', u'name': u'Hour'}, {u'units': u'', u'display_name': u'Month', u'name': u'DayofWeek'}, {u'units': u'C', u'display_name': u'Dry Bulb Temperature', u'name': u'SiteOutdoorAirDrybulbTemperature'}, {u'units': u'%', u'display_name': u'Relative Humidity', u'name': u'SiteOutdoorAirRelativeHumidity'}, {u'units': u'C', u'display_name': u'Ambient Loop Inlet Temperature', u'name': u'ETSInletTemperature'}, {u'units': u'kg/s', u'display_name': u'District Heating Mass Flow Rate', u'name': u'DistrictHeatingMassFlowRate'}, {u'units': u'kg/s', u'display_name': u'District Cooling Mass Flow Rate', u'name': u'DistrictCoolingMassFlowRate'}], u'building_type': u'Small Office', u'id': u'66fb9766-26e7-4bed-bdf9-0fbfbc8d6c7e', u'description': u'10 Simulations, varying inlet temperature and delta-T'}\n",
      "Starting to load models, there are a total of 1 models\n",
      "Loading model for response: HeatingElectricity\n",
      "Finished loading models\n"
     ]
    },
    {
     "data": {
      "text/plain": [
       "True"
      ]
     },
     "execution_count": 2,
     "metadata": {},
     "output_type": "execute_result"
    }
   ],
   "source": [
    "analysis_id = '66fb9766-26e7-4bed-bdf9-0fbfbc8d6c7e'\n",
    "reduced_order_model = Analyses('./analyses.json')\n",
    "reduced_order_model.set_analysis(analysis_id)\n",
    "\n"
   ]
  },
  {
   "cell_type": "code",
   "execution_count": 37,
   "metadata": {},
   "outputs": [
    {
     "data": {
      "text/html": [
       "<div>\n",
       "<style scoped>\n",
       "    .dataframe tbody tr th:only-of-type {\n",
       "        vertical-align: middle;\n",
       "    }\n",
       "\n",
       "    .dataframe tbody tr th {\n",
       "        vertical-align: top;\n",
       "    }\n",
       "\n",
       "    .dataframe thead th {\n",
       "        text-align: right;\n",
       "    }\n",
       "</style>\n",
       "<table border=\"1\" class=\"dataframe\">\n",
       "  <thead>\n",
       "    <tr style=\"text-align: right;\">\n",
       "      <th></th>\n",
       "      <th>DayofWeek</th>\n",
       "      <th>DistrictCoolingMassFlowRate</th>\n",
       "      <th>DistrictHeatingMassFlowRate</th>\n",
       "      <th>ETSInletTemperature</th>\n",
       "      <th>Hour</th>\n",
       "      <th>Month</th>\n",
       "      <th>PointlessColumn</th>\n",
       "      <th>SiteOutdoorAirDrybulbTemperature</th>\n",
       "      <th>SiteOutdoorAirRelativeHumidity</th>\n",
       "    </tr>\n",
       "  </thead>\n",
       "  <tbody>\n",
       "    <tr>\n",
       "      <th>0</th>\n",
       "      <td>2</td>\n",
       "      <td>1</td>\n",
       "      <td>1</td>\n",
       "      <td>25</td>\n",
       "      <td>1</td>\n",
       "      <td>1</td>\n",
       "      <td>1</td>\n",
       "      <td>60</td>\n",
       "      <td>50</td>\n",
       "    </tr>\n",
       "    <tr>\n",
       "      <th>1</th>\n",
       "      <td>2</td>\n",
       "      <td>1</td>\n",
       "      <td>1</td>\n",
       "      <td>25</td>\n",
       "      <td>15</td>\n",
       "      <td>1</td>\n",
       "      <td>1</td>\n",
       "      <td>15</td>\n",
       "      <td>50</td>\n",
       "    </tr>\n",
       "  </tbody>\n",
       "</table>\n",
       "</div>"
      ],
      "text/plain": [
       "   DayofWeek  DistrictCoolingMassFlowRate  DistrictHeatingMassFlowRate  \\\n",
       "0          2                            1                            1   \n",
       "1          2                            1                            1   \n",
       "\n",
       "   ETSInletTemperature  Hour  Month  PointlessColumn  \\\n",
       "0                   25     1      1                1   \n",
       "1                   25    15      1                1   \n",
       "\n",
       "   SiteOutdoorAirDrybulbTemperature  SiteOutdoorAirRelativeHumidity  \n",
       "0                                60                              50  \n",
       "1                                15                              50  "
      ]
     },
     "execution_count": 37,
     "metadata": {},
     "output_type": "execute_result"
    }
   ],
   "source": [
    "data = {\n",
    "    'Month': [1,1],\n",
    "    'Hour': [1,15],\n",
    "    'DayofWeek': [2,2],\n",
    "    'SiteOutdoorAirDrybulbTemperature': [60,15],\n",
    "    'SiteOutdoorAirRelativeHumidity': [50,50],\n",
    "    'ETSInletTemperature': [25,25],\n",
    "    'DistrictHeatingMassFlowRate': [1,1],\n",
    "    'DistrictCoolingMassFlowRate': [1,1],\n",
    "    'PointlessColumn': [1,1]\n",
    "}\n",
    "\n",
    "data = pd.DataFrame.from_dict(data)\n",
    "data"
   ]
  },
  {
   "cell_type": "code",
   "execution_count": 38,
   "metadata": {},
   "outputs": [
    {
     "name": "stdout",
     "output_type": "stream",
     "text": [
      "The following columns are not needed in DataFrame\n",
      "['PointlessColumn']\n",
      "Removing unneeded column before evaluation\n"
     ]
    },
    {
     "data": {
      "text/plain": [
       "array([4613015., 4613015.])"
      ]
     },
     "execution_count": 38,
     "metadata": {},
     "output_type": "execute_result"
    }
   ],
   "source": [
    "# reduced_order_model.model('HeatingElectricity').feature_importances_\n",
    "reduced_order_model.yhat('HeatingElectricity', data)"
   ]
  },
  {
   "cell_type": "code",
   "execution_count": null,
   "metadata": {},
   "outputs": [],
   "source": []
  }
 ],
 "metadata": {
  "kernelspec": {
   "display_name": "Python 2",
   "language": "python",
   "name": "python2"
  },
  "language_info": {
   "codemirror_mode": {
    "name": "ipython",
    "version": 2
   },
   "file_extension": ".py",
   "mimetype": "text/x-python",
   "name": "python",
   "nbconvert_exporter": "python",
   "pygments_lexer": "ipython2",
   "version": "2.7.14"
  }
 },
 "nbformat": 4,
 "nbformat_minor": 1
}
